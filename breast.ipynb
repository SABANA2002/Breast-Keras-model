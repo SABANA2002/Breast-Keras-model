{
 "cells": [
  {
   "cell_type": "code",
   "execution_count": 1,
   "id": "364690db",
   "metadata": {},
   "outputs": [],
   "source": [
    "import pandas as pd\n",
    "from scipy import stats\n",
    "import matplotlib.pyplot as plt\n",
    "import seaborn as sns\n",
    "import statsmodels.api as sm\n",
    "from sklearn.model_selection import train_test_split\n",
    "from sklearn.linear_model import LinearRegression\n",
    "from sklearn.ensemble import GradientBoostingRegressor\n",
    "from sklearn.ensemble import GradientBoostingClassifier\n",
    "from sklearn.ensemble import RandomForestClassifier\n",
    "from sklearn.ensemble import RandomForestRegressor\n",
    "from sklearn.linear_model import LogisticRegression\n",
    "from sklearn.tree import DecisionTreeClassifier\n",
    "from sklearn.tree import DecisionTreeRegressor\n",
    "from sklearn.ensemble import AdaBoostRegressor\n",
    "from sklearn.ensemble import AdaBoostClassifier\n",
    "from sklearn import metrics\n",
    "from sklearn.metrics import mean_squared_error"
   ]
  },
  {
   "cell_type": "code",
   "execution_count": 2,
   "id": "12f1538d",
   "metadata": {},
   "outputs": [
    {
     "data": {
      "text/html": [
       "<div>\n",
       "<style scoped>\n",
       "    .dataframe tbody tr th:only-of-type {\n",
       "        vertical-align: middle;\n",
       "    }\n",
       "\n",
       "    .dataframe tbody tr th {\n",
       "        vertical-align: top;\n",
       "    }\n",
       "\n",
       "    .dataframe thead th {\n",
       "        text-align: right;\n",
       "    }\n",
       "</style>\n",
       "<table border=\"1\" class=\"dataframe\">\n",
       "  <thead>\n",
       "    <tr style=\"text-align: right;\">\n",
       "      <th></th>\n",
       "      <th>1000025</th>\n",
       "      <th>5</th>\n",
       "      <th>1</th>\n",
       "      <th>1.1</th>\n",
       "      <th>1.2</th>\n",
       "      <th>2</th>\n",
       "      <th>1.3</th>\n",
       "      <th>3</th>\n",
       "      <th>1.4</th>\n",
       "      <th>1.5</th>\n",
       "      <th>2.1</th>\n",
       "    </tr>\n",
       "  </thead>\n",
       "  <tbody>\n",
       "    <tr>\n",
       "      <th>0</th>\n",
       "      <td>1002945</td>\n",
       "      <td>5</td>\n",
       "      <td>4</td>\n",
       "      <td>4</td>\n",
       "      <td>5</td>\n",
       "      <td>7</td>\n",
       "      <td>10.0</td>\n",
       "      <td>3</td>\n",
       "      <td>2</td>\n",
       "      <td>1</td>\n",
       "      <td>2</td>\n",
       "    </tr>\n",
       "    <tr>\n",
       "      <th>1</th>\n",
       "      <td>1015425</td>\n",
       "      <td>3</td>\n",
       "      <td>1</td>\n",
       "      <td>1</td>\n",
       "      <td>1</td>\n",
       "      <td>2</td>\n",
       "      <td>2.0</td>\n",
       "      <td>3</td>\n",
       "      <td>1</td>\n",
       "      <td>1</td>\n",
       "      <td>2</td>\n",
       "    </tr>\n",
       "    <tr>\n",
       "      <th>2</th>\n",
       "      <td>1016277</td>\n",
       "      <td>6</td>\n",
       "      <td>8</td>\n",
       "      <td>8</td>\n",
       "      <td>1</td>\n",
       "      <td>3</td>\n",
       "      <td>4.0</td>\n",
       "      <td>3</td>\n",
       "      <td>7</td>\n",
       "      <td>1</td>\n",
       "      <td>2</td>\n",
       "    </tr>\n",
       "    <tr>\n",
       "      <th>3</th>\n",
       "      <td>1017023</td>\n",
       "      <td>4</td>\n",
       "      <td>1</td>\n",
       "      <td>1</td>\n",
       "      <td>3</td>\n",
       "      <td>2</td>\n",
       "      <td>1.0</td>\n",
       "      <td>3</td>\n",
       "      <td>1</td>\n",
       "      <td>1</td>\n",
       "      <td>2</td>\n",
       "    </tr>\n",
       "    <tr>\n",
       "      <th>4</th>\n",
       "      <td>1017122</td>\n",
       "      <td>8</td>\n",
       "      <td>10</td>\n",
       "      <td>10</td>\n",
       "      <td>8</td>\n",
       "      <td>7</td>\n",
       "      <td>10.0</td>\n",
       "      <td>9</td>\n",
       "      <td>7</td>\n",
       "      <td>1</td>\n",
       "      <td>4</td>\n",
       "    </tr>\n",
       "  </tbody>\n",
       "</table>\n",
       "</div>"
      ],
      "text/plain": [
       "   1000025  5   1  1.1  1.2  2   1.3  3  1.4  1.5  2.1\n",
       "0  1002945  5   4    4    5  7  10.0  3    2    1    2\n",
       "1  1015425  3   1    1    1  2   2.0  3    1    1    2\n",
       "2  1016277  6   8    8    1  3   4.0  3    7    1    2\n",
       "3  1017023  4   1    1    3  2   1.0  3    1    1    2\n",
       "4  1017122  8  10   10    8  7  10.0  9    7    1    4"
      ]
     },
     "execution_count": 2,
     "metadata": {},
     "output_type": "execute_result"
    }
   ],
   "source": [
    "cancer=pd.read_csv(\"C:/Users/HP/Downloads/breast-cancer-wisconsin.data\",na_values=\"?\")\n",
    "cancer.head(5)"
   ]
  },
  {
   "cell_type": "code",
   "execution_count": 3,
   "id": "7cd46457",
   "metadata": {},
   "outputs": [
    {
     "data": {
      "text/plain": [
       "1000025     0\n",
       "5           0\n",
       "1           0\n",
       "1.1         0\n",
       "1.2         0\n",
       "2           0\n",
       "1.3        16\n",
       "3           0\n",
       "1.4         0\n",
       "1.5         0\n",
       "2.1         0\n",
       "dtype: int64"
      ]
     },
     "execution_count": 3,
     "metadata": {},
     "output_type": "execute_result"
    }
   ],
   "source": [
    "cancer.isnull().sum()"
   ]
  },
  {
   "cell_type": "code",
   "execution_count": 4,
   "id": "0772193c",
   "metadata": {},
   "outputs": [],
   "source": [
    "cancer.columns=[\"code_number\",\"Clump_Thickness\",\"Uniformity_size\",\"Uniformity_shape\",\"Marginal_Adhesion\",\"Epithelial_size\",\"Bare_Nuclei\",\"Bland_Chromatin\",\"Normal_Nucleoli\",\"Mitoses\",\"Class\"]"
   ]
  },
  {
   "cell_type": "code",
   "execution_count": 5,
   "id": "41a9c0c5",
   "metadata": {},
   "outputs": [
    {
     "name": "stdout",
     "output_type": "stream",
     "text": [
      "<class 'pandas.core.frame.DataFrame'>\n",
      "RangeIndex: 698 entries, 0 to 697\n",
      "Data columns (total 11 columns):\n",
      " #   Column             Non-Null Count  Dtype  \n",
      "---  ------             --------------  -----  \n",
      " 0   code_number        698 non-null    int64  \n",
      " 1   Clump_Thickness    698 non-null    int64  \n",
      " 2   Uniformity_size    698 non-null    int64  \n",
      " 3   Uniformity_shape   698 non-null    int64  \n",
      " 4   Marginal_Adhesion  698 non-null    int64  \n",
      " 5   Epithelial_size    698 non-null    int64  \n",
      " 6   Bare_Nuclei        682 non-null    float64\n",
      " 7   Bland_Chromatin    698 non-null    int64  \n",
      " 8   Normal_Nucleoli    698 non-null    int64  \n",
      " 9   Mitoses            698 non-null    int64  \n",
      " 10  Class              698 non-null    int64  \n",
      "dtypes: float64(1), int64(10)\n",
      "memory usage: 60.1 KB\n"
     ]
    }
   ],
   "source": [
    "cancer.info()"
   ]
  },
  {
   "cell_type": "code",
   "execution_count": 7,
   "id": "e3ec04b5",
   "metadata": {},
   "outputs": [],
   "source": [
    "cancer.Bare_Nuclei.fillna(cancer.Bare_Nuclei.mean(),inplace=True)"
   ]
  },
  {
   "cell_type": "code",
   "execution_count": 8,
   "id": "6ab1b310",
   "metadata": {},
   "outputs": [
    {
     "data": {
      "text/plain": [
       "code_number          0\n",
       "Clump_Thickness      0\n",
       "Uniformity_size      0\n",
       "Uniformity_shape     0\n",
       "Marginal_Adhesion    0\n",
       "Epithelial_size      0\n",
       "Bare_Nuclei          0\n",
       "Bland_Chromatin      0\n",
       "Normal_Nucleoli      0\n",
       "Mitoses              0\n",
       "Class                0\n",
       "dtype: int64"
      ]
     },
     "execution_count": 8,
     "metadata": {},
     "output_type": "execute_result"
    }
   ],
   "source": [
    "cancer.isnull().sum()"
   ]
  },
  {
   "cell_type": "code",
   "execution_count": 9,
   "id": "934ecf36",
   "metadata": {},
   "outputs": [],
   "source": [
    "from sklearn.model_selection import train_test_split"
   ]
  },
  {
   "cell_type": "code",
   "execution_count": 10,
   "id": "b7c8b178",
   "metadata": {},
   "outputs": [],
   "source": [
    "y=cancer.Class\n",
    "x=cancer.drop([\"Class\",\"code_number\"],axis=1)"
   ]
  },
  {
   "cell_type": "code",
   "execution_count": 11,
   "id": "78eda82d",
   "metadata": {},
   "outputs": [
    {
     "data": {
      "text/plain": [
       "(698, 9)"
      ]
     },
     "execution_count": 11,
     "metadata": {},
     "output_type": "execute_result"
    }
   ],
   "source": [
    "x.shape"
   ]
  },
  {
   "cell_type": "code",
   "execution_count": 12,
   "id": "a792a705",
   "metadata": {},
   "outputs": [
    {
     "data": {
      "text/plain": [
       "(698,)"
      ]
     },
     "execution_count": 12,
     "metadata": {},
     "output_type": "execute_result"
    }
   ],
   "source": [
    "y.shape"
   ]
  },
  {
   "cell_type": "code",
   "execution_count": 13,
   "id": "ca91f586",
   "metadata": {},
   "outputs": [],
   "source": [
    "x_train,x_test,y_train,y_test=train_test_split(x,y,train_size=0.8,test_size=0.2,shuffle=False)"
   ]
  },
  {
   "cell_type": "code",
   "execution_count": 14,
   "id": "4d0613ba",
   "metadata": {},
   "outputs": [],
   "source": [
    "from keras.models import Sequential"
   ]
  },
  {
   "cell_type": "code",
   "execution_count": 15,
   "id": "e34abb7d",
   "metadata": {},
   "outputs": [],
   "source": [
    "from tensorflow.keras import layers"
   ]
  },
  {
   "cell_type": "code",
   "execution_count": 18,
   "id": "09168c36",
   "metadata": {},
   "outputs": [],
   "source": [
    "model=Sequential()\n",
    "model.add(layers.Dense(8,input_dim=9,activation=\"relu\"))\n",
    "model.add(layers.Dense(32,activation=\"relu\"))\n",
    "model.add(layers.Dense(3,activation=\"relu\"))\n",
    "model.compile(loss=\"binary_crossentropy\",optimizer=\"adam\",metrics=[\"accuracy\"])"
   ]
  },
  {
   "cell_type": "code",
   "execution_count": 24,
   "id": "b8f58595",
   "metadata": {},
   "outputs": [
    {
     "name": "stdout",
     "output_type": "stream",
     "text": [
      "Epoch 1/50\n",
      "18/18 [==============================] - 0s 3ms/step - loss: -26.5085 - accuracy: 0.0896\n",
      "Epoch 2/50\n",
      "18/18 [==============================] - 0s 3ms/step - loss: -26.5085 - accuracy: 0.0896\n",
      "Epoch 3/50\n",
      "18/18 [==============================] - 0s 3ms/step - loss: -26.5085 - accuracy: 0.0896\n",
      "Epoch 4/50\n",
      "18/18 [==============================] - 0s 3ms/step - loss: -26.5085 - accuracy: 0.0896\n",
      "Epoch 5/50\n",
      "18/18 [==============================] - 0s 3ms/step - loss: -26.5085 - accuracy: 0.0896\n",
      "Epoch 6/50\n",
      "18/18 [==============================] - 0s 3ms/step - loss: -26.5085 - accuracy: 0.0896\n",
      "Epoch 7/50\n",
      "18/18 [==============================] - 0s 4ms/step - loss: -26.5085 - accuracy: 0.0896\n",
      "Epoch 8/50\n",
      "18/18 [==============================] - 0s 3ms/step - loss: -26.5085 - accuracy: 0.0896\n",
      "Epoch 9/50\n",
      "18/18 [==============================] - 0s 4ms/step - loss: -26.5085 - accuracy: 0.0896\n",
      "Epoch 10/50\n",
      "18/18 [==============================] - 0s 3ms/step - loss: -26.5085 - accuracy: 0.0896\n",
      "Epoch 11/50\n",
      "18/18 [==============================] - 0s 3ms/step - loss: -26.5085 - accuracy: 0.0896\n",
      "Epoch 12/50\n",
      "18/18 [==============================] - 0s 3ms/step - loss: -26.5085 - accuracy: 0.0896\n",
      "Epoch 13/50\n",
      "18/18 [==============================] - 0s 3ms/step - loss: -26.5085 - accuracy: 0.0896\n",
      "Epoch 14/50\n",
      "18/18 [==============================] - 0s 3ms/step - loss: -26.5085 - accuracy: 0.0896\n",
      "Epoch 15/50\n",
      "18/18 [==============================] - 0s 4ms/step - loss: -26.5085 - accuracy: 0.0896\n",
      "Epoch 16/50\n",
      "18/18 [==============================] - 0s 3ms/step - loss: -26.5085 - accuracy: 0.0896\n",
      "Epoch 17/50\n",
      "18/18 [==============================] - 0s 3ms/step - loss: -26.5085 - accuracy: 0.0896\n",
      "Epoch 18/50\n",
      "18/18 [==============================] - 0s 3ms/step - loss: -26.5085 - accuracy: 0.0896\n",
      "Epoch 19/50\n",
      "18/18 [==============================] - 0s 3ms/step - loss: -26.5085 - accuracy: 0.0896\n",
      "Epoch 20/50\n",
      "18/18 [==============================] - 0s 2ms/step - loss: -26.5085 - accuracy: 0.0896\n",
      "Epoch 21/50\n",
      "18/18 [==============================] - 0s 2ms/step - loss: -26.5085 - accuracy: 0.0896\n",
      "Epoch 22/50\n",
      "18/18 [==============================] - 0s 3ms/step - loss: -26.5085 - accuracy: 0.0896\n",
      "Epoch 23/50\n",
      "18/18 [==============================] - 0s 3ms/step - loss: -26.5085 - accuracy: 0.0896\n",
      "Epoch 24/50\n",
      "18/18 [==============================] - 0s 3ms/step - loss: -26.5085 - accuracy: 0.0896\n",
      "Epoch 25/50\n",
      "18/18 [==============================] - 0s 3ms/step - loss: -26.5085 - accuracy: 0.0896\n",
      "Epoch 26/50\n",
      "18/18 [==============================] - 0s 3ms/step - loss: -26.5085 - accuracy: 0.0896\n",
      "Epoch 27/50\n",
      "18/18 [==============================] - 0s 3ms/step - loss: -26.5085 - accuracy: 0.0896\n",
      "Epoch 28/50\n",
      "18/18 [==============================] - 0s 2ms/step - loss: -26.5085 - accuracy: 0.0896\n",
      "Epoch 29/50\n",
      "18/18 [==============================] - 0s 3ms/step - loss: -26.5085 - accuracy: 0.0896\n",
      "Epoch 30/50\n",
      "18/18 [==============================] - 0s 3ms/step - loss: -26.5085 - accuracy: 0.0896\n",
      "Epoch 31/50\n",
      "18/18 [==============================] - 0s 3ms/step - loss: -26.5085 - accuracy: 0.0896\n",
      "Epoch 32/50\n",
      "18/18 [==============================] - 0s 3ms/step - loss: -26.5085 - accuracy: 0.0896\n",
      "Epoch 33/50\n",
      "18/18 [==============================] - 0s 3ms/step - loss: -26.5085 - accuracy: 0.0896\n",
      "Epoch 34/50\n",
      "18/18 [==============================] - 0s 3ms/step - loss: -26.5085 - accuracy: 0.0896\n",
      "Epoch 35/50\n",
      "18/18 [==============================] - 0s 3ms/step - loss: -26.5085 - accuracy: 0.0896\n",
      "Epoch 36/50\n",
      "18/18 [==============================] - 0s 3ms/step - loss: -26.5085 - accuracy: 0.0896\n",
      "Epoch 37/50\n",
      "18/18 [==============================] - 0s 3ms/step - loss: -26.5085 - accuracy: 0.0896\n",
      "Epoch 38/50\n",
      "18/18 [==============================] - 0s 3ms/step - loss: -26.5085 - accuracy: 0.0896\n",
      "Epoch 39/50\n",
      "18/18 [==============================] - 0s 3ms/step - loss: -26.5085 - accuracy: 0.0896\n",
      "Epoch 40/50\n",
      "18/18 [==============================] - 0s 3ms/step - loss: -26.5085 - accuracy: 0.0896\n",
      "Epoch 41/50\n",
      "18/18 [==============================] - 0s 3ms/step - loss: -26.5085 - accuracy: 0.0896\n",
      "Epoch 42/50\n",
      "18/18 [==============================] - 0s 3ms/step - loss: -26.5085 - accuracy: 0.0896\n",
      "Epoch 43/50\n",
      "18/18 [==============================] - 0s 3ms/step - loss: -26.5085 - accuracy: 0.0896\n",
      "Epoch 44/50\n",
      "18/18 [==============================] - 0s 3ms/step - loss: -26.5085 - accuracy: 0.0896\n",
      "Epoch 45/50\n",
      "18/18 [==============================] - 0s 3ms/step - loss: -26.5085 - accuracy: 0.0896\n",
      "Epoch 46/50\n",
      "18/18 [==============================] - 0s 3ms/step - loss: -26.5085 - accuracy: 0.0896\n",
      "Epoch 47/50\n",
      "18/18 [==============================] - 0s 3ms/step - loss: -26.5085 - accuracy: 0.0896\n",
      "Epoch 48/50\n",
      "18/18 [==============================] - 0s 3ms/step - loss: -26.5085 - accuracy: 0.0896\n",
      "Epoch 49/50\n",
      "18/18 [==============================] - 0s 4ms/step - loss: -26.5085 - accuracy: 0.0896\n",
      "Epoch 50/50\n",
      "18/18 [==============================] - 0s 3ms/step - loss: -26.5085 - accuracy: 0.0896\n"
     ]
    },
    {
     "data": {
      "text/plain": [
       "<keras.callbacks.History at 0x26a63a4d370>"
      ]
     },
     "execution_count": 24,
     "metadata": {},
     "output_type": "execute_result"
    }
   ],
   "source": [
    "model.fit(x_train,y_train,epochs=50)"
   ]
  },
  {
   "cell_type": "code",
   "execution_count": 23,
   "id": "4860cf35",
   "metadata": {},
   "outputs": [
    {
     "name": "stdout",
     "output_type": "stream",
     "text": [
      "5/5 [==============================] - 0s 6ms/step - loss: -22.8739 - accuracy: 0.0786\n"
     ]
    },
    {
     "data": {
      "text/plain": [
       "[-22.873857498168945, 0.07857143133878708]"
      ]
     },
     "execution_count": 23,
     "metadata": {},
     "output_type": "execute_result"
    }
   ],
   "source": [
    "model.evaluate(x_test,y_test)"
   ]
  },
  {
   "cell_type": "code",
   "execution_count": null,
   "id": "99afe3ee",
   "metadata": {},
   "outputs": [],
   "source": []
  },
  {
   "cell_type": "code",
   "execution_count": null,
   "id": "57c2b01a",
   "metadata": {},
   "outputs": [],
   "source": []
  }
 ],
 "metadata": {
  "kernelspec": {
   "display_name": "Python 3 (ipykernel)",
   "language": "python",
   "name": "python3"
  },
  "language_info": {
   "codemirror_mode": {
    "name": "ipython",
    "version": 3
   },
   "file_extension": ".py",
   "mimetype": "text/x-python",
   "name": "python",
   "nbconvert_exporter": "python",
   "pygments_lexer": "ipython3",
   "version": "3.9.7"
  }
 },
 "nbformat": 4,
 "nbformat_minor": 5
}
